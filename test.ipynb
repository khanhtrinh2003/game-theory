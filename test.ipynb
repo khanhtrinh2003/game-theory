{
 "cells": [
  {
   "cell_type": "code",
   "execution_count": 7,
   "metadata": {},
   "outputs": [],
   "source": [
    "import sys\n",
    "path = \"Find Strategy\"\n",
    "sys.path.append(path)\n",
    "\n",
    "from find_mix_strategy import find_mix_strategy"
   ]
  },
  {
   "cell_type": "code",
   "execution_count": 10,
   "metadata": {},
   "outputs": [
    {
     "name": "stdout",
     "output_type": "stream",
     "text": [
      "Kỳ vọng của mình: 3.0 \n",
      "Chiến lược đối thủ: [0. 1. 3.]\n"
     ]
    }
   ],
   "source": [
    "print(find_mix_strategy([[6,3],[10,0]]))"
   ]
  },
  {
   "cell_type": "code",
   "execution_count": 13,
   "metadata": {},
   "outputs": [
    {
     "name": "stdout",
     "output_type": "stream",
     "text": [
      "Kỳ vọng của mình: 2.0 \n",
      "Chiến lược đối thủ: [1. 0. 2.]\n"
     ]
    }
   ],
   "source": [
    "print(find_mix_strategy([[2,6],[-1,0]]))"
   ]
  },
  {
   "cell_type": "code",
   "execution_count": 12,
   "metadata": {},
   "outputs": [
    {
     "name": "stdout",
     "output_type": "stream",
     "text": [
      "Kỳ vọng của mình: 0.6666666666666667 \n",
      "Chiến lược đối thủ: [0.66666667 0.33333333 0.66666667]\n"
     ]
    }
   ],
   "source": [
    "print(find_mix_strategy([[0,2],[1,0]]))"
   ]
  },
  {
   "cell_type": "code",
   "execution_count": 11,
   "metadata": {},
   "outputs": [
    {
     "name": "stdout",
     "output_type": "stream",
     "text": [
      "Kỳ vọng của mình: 2.0 \n",
      "Chiến lược đối thủ: [1. 0. 2.]\n"
     ]
    }
   ],
   "source": [
    "print(find_mix_strategy([[2,6],[-1,0]]))"
   ]
  },
  {
   "cell_type": "code",
   "execution_count": 8,
   "metadata": {},
   "outputs": [
    {
     "name": "stdout",
     "output_type": "stream",
     "text": [
      "Kỳ vọng của mình: 2.5 \n",
      "Chiến lược đối thủ: [0.5 0.5 2.5]\n"
     ]
    }
   ],
   "source": [
    "print(find_mix_strategy([[3,2],[2,3]]))"
   ]
  },
  {
   "cell_type": "code",
   "execution_count": 9,
   "metadata": {},
   "outputs": [
    {
     "name": "stdout",
     "output_type": "stream",
     "text": [
      "Kỳ vọng của mình: 1.5 \n",
      "Chiến lược đối thủ: [0.5 0.5 1.5]\n"
     ]
    }
   ],
   "source": [
    "print(find_mix_strategy([[2,1],[1,2]]))"
   ]
  },
  {
   "cell_type": "code",
   "execution_count": 15,
   "metadata": {},
   "outputs": [],
   "source": [
    "import numpy as np\n",
    "from scipy.optimize import linprog\n",
    "\n",
    "def find_mix_strategy(payoff):\n",
    "    payoff_extended = [i + [-1] for i in payoff]\n",
    "    A_ub = np.array(payoff_extended)\n",
    "    b_ub = np.zeros(len(payoff))\n",
    "    A_eq = np.array([[1] * len(payoff[0]) + [0]])\n",
    "    b_eq = np.array([1])\n",
    "    c = np.array([0] * len(payoff[0]) + [1])\n",
    "    res = linprog(c, A_ub=A_ub, b_ub=b_ub,bounds=(0, None), A_eq=A_eq,b_eq=b_eq)\n",
    "    return f\"Kỳ vọng của mình: {res.fun} \\nChiến lược đối thủ: {res.x}\" \n"
   ]
  },
  {
   "cell_type": "code",
   "execution_count": 52,
   "metadata": {},
   "outputs": [
    {
     "name": "stdout",
     "output_type": "stream",
     "text": [
      "Chiến lược của Nam: [0.33333333 0.66666667]\n",
      "Chiến lược của Nữ: [0.66666667 0.33333333]\n",
      "Kỳ vọng của Nữ: 0.6666666666666666\n",
      "Kỳ vọng của Nam: 0.6666666666666666\n"
     ]
    }
   ],
   "source": [
    "A_ub = np.array([[2,0,0,0,-1,0],[0,1,0,0,-1,0],[0,0,1,0,0,-1],[0,0,0,2,0,-1]])\n",
    "b_ub = np.zeros(4)\n",
    "A_eq = np.array([[1,1,0,0,0,0],[0,0,1,1,0,0]])\n",
    "b_eq = np.ones(2)\n",
    "c = np.array([0,0,0,0,1,1])\n",
    "res = linprog(c, A_ub=A_ub, b_ub=b_ub,bounds=(0, None), A_eq=A_eq,b_eq=b_eq)\n",
    "print(\"Chiến lược của Nam:\",res.x[:2])\n",
    "print(\"Chiến lược của Nữ:\",res.x[2:4])\n",
    "print(\"Kỳ vọng của Nữ:\",res.x[4])\n",
    "print(\"Kỳ vọng của Nam:\",res.x[5])\n"
   ]
  },
  {
   "cell_type": "code",
   "execution_count": 77,
   "metadata": {},
   "outputs": [],
   "source": [
    "def find_mix_strategy(payoff1, payoff2):\n",
    "    payoff11 = [i + [0]*len(payoff2) +[-1,0] for i in payoff1]\n",
    "    payoff21 = [[0]*len(payoff1) +i + [0,-1] for i in payoff2]\n",
    "    t=payoff11+payoff21\n",
    "    A_ub = np.array(t)\n",
    "    b_ub = np.zeros(len(t))\n",
    "    \n",
    "    e = [[1]*len(payoff1) + [0]*len(payoff2) +[0,0]] + [[0]*len(payoff1) +[1]*len(payoff2) + [0,0]]\n",
    "    A_eq = np.array(e)\n",
    "    b_eq = np.ones(2)\n",
    "    c = np.array([0] * len(t) + [1,1])\n",
    "    res = linprog(c, A_ub=A_ub, b_ub=b_ub,bounds=(0, None), A_eq=A_eq,b_eq=b_eq)\n",
    "    return f\"Chiến lược của người 1:{res.x[len(payoff1):len(payoff1)+len(payoff2)]}\\n Chiến lược của người 2:{res.x[:len(payoff1)]},\\nKỳ vọng của người 1: {res.x[len(payoff1)+len(payoff2):len(payoff1)+len(payoff2)+1]},\\nKỳ vọng của người 2: {res.x[len(payoff1)+len(payoff2)+1:len(payoff1)+len(payoff2)+2]}\""
   ]
  },
  {
   "cell_type": "code",
   "execution_count": 78,
   "metadata": {},
   "outputs": [
    {
     "name": "stdout",
     "output_type": "stream",
     "text": [
      "Chiến lược của người 1:[0.33333333 0.         0.         0.33333333 0.33333333 0.        ]\n",
      " Chiến lược của người 2:[ 0.33333333 -0.         -0.          0.33333333  0.33333333  0.        ],\n",
      "Kỳ vọng của người 1: [1.],\n",
      "Kỳ vọng của người 2: [2.]\n"
     ]
    }
   ],
   "source": [
    "payoff1 = [[0,1,1,2,1,1],[1,0,2,1,1,1],[1,1,0,1,1,2],[1,1,1,0,2,1],[2,1,1,1,0,1],[1,2,1,1,1,0]]\n",
    "payoff2 = [[3,2,2,1,2,2],[2,3,1,2,2,2],[2,2,3,2,2,1],[2,2,2,3,1,2],[1,2,2,2,3,2],[2,1,2,2,2,3]]\n",
    "print(find_mix_strategy(payoff1,payoff2))"
   ]
  },
  {
   "cell_type": "code",
   "execution_count": 47,
   "metadata": {},
   "outputs": [
    {
     "name": "stdout",
     "output_type": "stream",
     "text": [
      "[[2, 0, 0, 0], [0, 1, 0, 0], [0, 0, 1, 0], [0, 0, 0, 2]]\n"
     ]
    }
   ],
   "source": [
    "def combine_matrices(matrix1, matrix2):\n",
    "    combined_matrix = [[0, 0, 0, 0] for i in range(4)]\n",
    "    combined_matrix[0][0] = matrix1[0][0]\n",
    "    combined_matrix[1][1] = matrix1[1][1]\n",
    "    combined_matrix[2][2] = matrix2[0][0]\n",
    "    combined_matrix[3][3] = matrix2[1][1]\n",
    "    return combined_matrix\n",
    "\n",
    "\n",
    "\n",
    "result = combine_matrices(matrix1, matrix2)\n",
    "print(result)\n"
   ]
  },
  {
   "cell_type": "code",
   "execution_count": 44,
   "metadata": {},
   "outputs": [
    {
     "data": {
      "text/plain": [
       "'Kỳ vọng của mình: 0.6666666666666666 \\nChiến lược đối thủ: [0.33333333 0.66666667 0.66666667]'"
      ]
     },
     "execution_count": 44,
     "metadata": {},
     "output_type": "execute_result"
    }
   ],
   "source": [
    "\n",
    "find_mix_strategy([[2,0],[0,1]])"
   ]
  }
 ],
 "metadata": {
  "kernelspec": {
   "display_name": "Python 3",
   "language": "python",
   "name": "python3"
  },
  "language_info": {
   "codemirror_mode": {
    "name": "ipython",
    "version": 3
   },
   "file_extension": ".py",
   "mimetype": "text/x-python",
   "name": "python",
   "nbconvert_exporter": "python",
   "pygments_lexer": "ipython3",
   "version": "3.10.9"
  },
  "orig_nbformat": 4,
  "vscode": {
   "interpreter": {
    "hash": "a42ccb73e7d9bfdf27e036f1d2b8b681e55fc0743cc5586bc2474d4a60f4b886"
   }
  }
 },
 "nbformat": 4,
 "nbformat_minor": 2
}
