{
 "cells": [
  {
   "cell_type": "code",
   "execution_count": 1,
   "metadata": {},
   "outputs": [],
   "source": [
    "import sys\n",
    "path = \"Find Strategy\"\n",
    "sys.path.append(path)\n",
    "\n",
    "from find_mix_strategy import find_mix_strategy"
   ]
  },
  {
   "cell_type": "code",
   "execution_count": 2,
   "metadata": {},
   "outputs": [
    {
     "name": "stdout",
     "output_type": "stream",
     "text": [
      "Chiến lược của người 1:[1. 0.]\n",
      "Chiến lược của người 2:[0. 1.],\n",
      "Kỳ vọng của người 1: [3.],\n",
      "Kỳ vọng của người 2: [2.]\n"
     ]
    }
   ],
   "source": [
    "a = [[6,3],[10,0]]\n",
    "b = [[2,6],[-1,0]]\n",
    "print(find_mix_strategy(a,b))"
   ]
  },
  {
   "cell_type": "code",
   "execution_count": 3,
   "metadata": {},
   "outputs": [
    {
     "name": "stdout",
     "output_type": "stream",
     "text": [
      "Chiến lược của người 1:[0.33333333 0.66666667]\n",
      "Chiến lược của người 2:[0.66666667 0.33333333],\n",
      "Kỳ vọng của người 1: [0.66666667],\n",
      "Kỳ vọng của người 2: [0.66666667]\n"
     ]
    }
   ],
   "source": [
    "a = [[0,2],[1,0]]\n",
    "b = [[0,1],[2,0]]\n",
    "print(find_mix_strategy(a,b))"
   ]
  },
  {
   "cell_type": "code",
   "execution_count": 4,
   "metadata": {},
   "outputs": [
    {
     "name": "stdout",
     "output_type": "stream",
     "text": [
      "Chiến lược của người 1:[0.33333333 0.33333333 0.33333333]\n",
      "Chiến lược của người 2:[0.33333333 0.33333333 0.33333333],\n",
      "Kỳ vọng của người 1: [0.],\n",
      "Kỳ vọng của người 2: [0.]\n"
     ]
    }
   ],
   "source": [
    "a = [[0,-1,1],[1,0,-1],[-1,1,0]]\n",
    "b = [[0,1,-1],[-1,0,1],[1,-1,0]]\n",
    "print(find_mix_strategy(a,b))"
   ]
  },
  {
   "cell_type": "code",
   "execution_count": 15,
   "metadata": {},
   "outputs": [],
   "source": [
    "import numpy as np\n",
    "from scipy.optimize import linprog\n",
    "\n",
    "def find_mix_strategy(payoff):\n",
    "    payoff_extended = [i + [-1] for i in payoff]\n",
    "    A_ub = np.array(payoff_extended)\n",
    "    b_ub = np.zeros(len(payoff))\n",
    "    A_eq = np.array([[1] * len(payoff[0]) + [0]])\n",
    "    b_eq = np.array([1])\n",
    "    c = np.array([0] * len(payoff[0]) + [1])\n",
    "    res = linprog(c, A_ub=A_ub, b_ub=b_ub,bounds=(0, None), A_eq=A_eq,b_eq=b_eq)\n",
    "    return f\"Kỳ vọng của mình: {res.fun} \\nChiến lược đối thủ: {res.x}\" \n"
   ]
  },
  {
   "cell_type": "code",
   "execution_count": 2,
   "metadata": {},
   "outputs": [
    {
     "name": "stdout",
     "output_type": "stream",
     "text": [
      "Chiến lược của người 1:[0.33333333 0.         0.         0.33333333 0.33333333 0.        ]\n",
      " Chiến lược của người 2:[ 0.33333333 -0.         -0.          0.33333333  0.33333333  0.        ],\n",
      "Kỳ vọng của người 1: [1.],\n",
      "Kỳ vọng của người 2: [2.]\n"
     ]
    }
   ],
   "source": [
    "payoff1 = [[0,1,1,2,1,1],[1,0,2,1,1,1],[1,1,0,1,1,2],[1,1,1,0,2,1],[2,1,1,1,0,1],[1,2,1,1,1,0]]\n",
    "payoff2 = [[3,2,2,1,2,2],[2,3,1,2,2,2],[2,2,3,2,2,1],[2,2,2,3,1,2],[1,2,2,2,3,2],[2,1,2,2,2,3]]\n",
    "print(find_mix_strategy(payoff1,payoff2))"
   ]
  },
  {
   "cell_type": "code",
   "execution_count": 47,
   "metadata": {},
   "outputs": [
    {
     "name": "stdout",
     "output_type": "stream",
     "text": [
      "[[2, 0, 0, 0], [0, 1, 0, 0], [0, 0, 1, 0], [0, 0, 0, 2]]\n"
     ]
    }
   ],
   "source": [
    "def combine_matrices(matrix1, matrix2):\n",
    "    combined_matrix = [[0, 0, 0, 0] for i in range(4)]\n",
    "    combined_matrix[0][0] = matrix1[0][0]\n",
    "    combined_matrix[1][1] = matrix1[1][1]\n",
    "    combined_matrix[2][2] = matrix2[0][0]\n",
    "    combined_matrix[3][3] = matrix2[1][1]\n",
    "    return combined_matrix\n",
    "\n",
    "\n",
    "\n",
    "result = combine_matrices(matrix1, matrix2)\n",
    "print(result)\n"
   ]
  },
  {
   "cell_type": "code",
   "execution_count": 44,
   "metadata": {},
   "outputs": [
    {
     "data": {
      "text/plain": [
       "'Kỳ vọng của mình: 0.6666666666666666 \\nChiến lược đối thủ: [0.33333333 0.66666667 0.66666667]'"
      ]
     },
     "execution_count": 44,
     "metadata": {},
     "output_type": "execute_result"
    }
   ],
   "source": [
    "\n",
    "find_mix_strategy([[2,0],[0,1]])"
   ]
  }
 ],
 "metadata": {
  "kernelspec": {
   "display_name": "Python 3",
   "language": "python",
   "name": "python3"
  },
  "language_info": {
   "codemirror_mode": {
    "name": "ipython",
    "version": 3
   },
   "file_extension": ".py",
   "mimetype": "text/x-python",
   "name": "python",
   "nbconvert_exporter": "python",
   "pygments_lexer": "ipython3",
   "version": "3.10.9"
  },
  "orig_nbformat": 4,
  "vscode": {
   "interpreter": {
    "hash": "a42ccb73e7d9bfdf27e036f1d2b8b681e55fc0743cc5586bc2474d4a60f4b886"
   }
  }
 },
 "nbformat": 4,
 "nbformat_minor": 2
}
